{
  "nbformat": 4,
  "nbformat_minor": 0,
  "metadata": {
    "colab": {
      "name": "0511.ipynb",
      "provenance": [],
      "authorship_tag": "ABX9TyPgSBw4Oe0v94ZpaEvQrJDG",
      "include_colab_link": true
    },
    "kernelspec": {
      "name": "python3",
      "display_name": "Python 3"
    },
    "language_info": {
      "name": "python"
    }
  },
  "cells": [
    {
      "cell_type": "markdown",
      "metadata": {
        "id": "view-in-github",
        "colab_type": "text"
      },
      "source": [
        "<a href=\"https://colab.research.google.com/github/ian41501/Introduction-to-computers/blob/main/0511.ipynb\" target=\"_parent\"><img src=\"https://colab.research.google.com/assets/colab-badge.svg\" alt=\"Open In Colab\"/></a>"
      ]
    },
    {
      "cell_type": "code",
      "execution_count": 1,
      "metadata": {
        "colab": {
          "base_uri": "https://localhost:8080/"
        },
        "id": "5u5lWoe8mmTn",
        "outputId": "f5dcb2cf-096f-423f-a761-3dad34e4b59e"
      },
      "outputs": [
        {
          "output_type": "stream",
          "name": "stdout",
          "text": [
            "請輸入體溫37.5\n",
            "體溫過高!\n"
          ]
        }
      ],
      "source": [
        "體溫=float(input('請輸入體溫'))\n",
        "if 體溫>=37.5:\n",
        "  print(\"體溫過高!\")\n",
        "elif (體溫>=37 and 體溫<=37.4):\n",
        "  print(\"體溫略高!\")\n",
        "elif (體溫>=34 and 體溫<=36.9):\n",
        "  print(\"體溫正常!\")\n",
        "else:    \n",
        "  print(\"體溫異常,請重新測量!\")"
      ]
    },
    {
      "cell_type": "code",
      "source": [
        "money= int(input(\"請輸入購物金額\"))\n",
        "if (money>=10000):\n",
        "  if(money>=10000):  \n",
        "   print(\"八折\",money*0.8,end=\"元\\n\")\n",
        "  elif(money>=50000):\n",
        "    print(\"八五折\",money*0.85,end=\"元\\n\")\n",
        "  elif(money>=30000):\n",
        "    print(\"九折\",money*0.9,end=\"元\\n\")\n",
        "  else:\n",
        "    print(\"九五折\",money*0.95,end=\"元\\n\")\n",
        "else:\n",
        "  print(\"沒打折\",money,end=\"元\\n\")\n",
        "money= int(input(\"請輸入購物金額\"))\n",
        "if (money>=10000):\n",
        "  if(money>=10000):  \n",
        "   print(\"八折\",money*0.8,end=\"元\\n\")\n",
        "  elif(money>=50000):\n",
        "    print(\"八五折\",money*0.85,end=\"元\\n\")\n",
        "  elif(money>=30000):\n",
        "    print(\"九折\",money*0.9,end=\"元\\n\")\n",
        "  else:\n",
        "    print(\"九五折\",money*0.95,end=\"元\\n\")\n",
        "else:\n",
        "  print(\"沒打折\",money,end=\"元\\n\")"
      ],
      "metadata": {
        "colab": {
          "base_uri": "https://localhost:8080/"
        },
        "id": "fd7KSzLnm2Lb",
        "outputId": "28ac655a-d2a6-4fa9-9b4a-09a024bb3377"
      },
      "execution_count": 2,
      "outputs": [
        {
          "output_type": "stream",
          "name": "stdout",
          "text": [
            "請輸入購物金額100\n",
            "沒打折 100元\n",
            "請輸入購物金額100000\n",
            "八折 80000.0元\n"
          ]
        }
      ]
    },
    {
      "cell_type": "code",
      "source": [
        "grade=int(input(\"請輸入成績\"))\n",
        "if grade>=90:\n",
        "  print('A')\n",
        "elif (grade>=80 and grade<=89):\n",
        "  print(\"B\")\n",
        "elif (grade>=70 and grade<=79):\n",
        "  print(\"C\")\n",
        "else:\n",
        "  print(\"E\")\n",
        "grade=int(input(\"請輸入成績\"))\n",
        "if grade>=90:\n",
        "  print('A')\n",
        "elif (grade>=80 and grade<=89):\n",
        "  print(\"B\")\n",
        "elif (grade>=70 and grade<=79):\n",
        "  print(\"C\")\n",
        "else:\n",
        "  print(\"E\")\n",
        "grade=int(input(\"請輸入成績\"))\n",
        "if grade>=90:\n",
        "  print('A')\n",
        "elif (grade>=80 and grade<=89):\n",
        "  print(\"B\")\n",
        "elif (grade>=70 and grade<=79):\n",
        "  print(\"C\")\n",
        "else:\n",
        "  print(\"E\")"
      ],
      "metadata": {
        "colab": {
          "base_uri": "https://localhost:8080/"
        },
        "id": "bJJKzaOtm6jI",
        "outputId": "00bf6222-5b59-45ae-dba8-f4a679091128"
      },
      "execution_count": 3,
      "outputs": [
        {
          "output_type": "stream",
          "name": "stdout",
          "text": [
            "請輸入成績90\n",
            "A\n",
            "請輸入成績80\n",
            "B\n",
            "請輸入成績50\n",
            "E\n"
          ]
        }
      ]
    },
    {
      "cell_type": "code",
      "source": [
        "season=int(input(\"請輸入月份\"))\n",
        "if season>=3 and season<=5 :\n",
        "  print(season,\"月是春天!\")\n",
        "elif season>=6 and season<=8 :\n",
        "  print(season,\"月是夏天!\")\n",
        "elif season>=9 and season<=11 :\n",
        "  print(season,\"月是秋天!\")\n",
        "elif 13>season>=12 or 2>=season>=1 :\n",
        "  print(season,\"月是冬天!\")\n",
        "else:\n",
        "  print(\"月份不在範圍內!\")"
      ],
      "metadata": {
        "colab": {
          "base_uri": "https://localhost:8080/"
        },
        "id": "nQRlY49xm9UI",
        "outputId": "fe596031-8099-4824-a5ef-a078946caa02"
      },
      "execution_count": 5,
      "outputs": [
        {
          "output_type": "stream",
          "name": "stdout",
          "text": [
            "請輸入月份12\n",
            "12 月是冬天!\n"
          ]
        }
      ]
    },
    {
      "cell_type": "code",
      "source": [
        "money=int(input(\"請輸入今年收入淨額:\"))\n",
        "if (money>=300000):\n",
        "  if(money>=300000 and money<600000):  \n",
        "   print(\"付稅金額:\",money*0.06,end=\"元\\n\")\n",
        "  elif(money>=600000 and money<1000000):\n",
        "    print(\"付稅金額:\",money*0.13,end=\"元\\n\")\n",
        "  elif(money>=1000000 and money<2000000):\n",
        "    print(\"付稅金額:\",money*0.21,end=\"元\\n\")\n",
        "  elif(money>=2000000):\n",
        "    print(\"付稅金額:\",money*0.3,end=\"元\\n\")\n",
        "else:\n",
        "  print(\"付稅金額:\",money*0,end=\"元\\n\")\n"
      ],
      "metadata": {
        "colab": {
          "base_uri": "https://localhost:8080/"
        },
        "id": "0Iui6nwZm_2U",
        "outputId": "eea7c107-3e96-496a-90a8-024ef23bb983"
      },
      "execution_count": 13,
      "outputs": [
        {
          "output_type": "stream",
          "name": "stdout",
          "text": [
            "請輸入今年收入淨額:100000\n",
            "付稅金額: 0元\n"
          ]
        }
      ]
    },
    {
      "cell_type": "code",
      "source": [
        "money=int(input(\"請輸入今年收入淨額:\"))\n",
        "if (money>=300000):\n",
        "  if(money>=300000 and money<600000):  \n",
        "   print(\"付稅金額:\",money*0.06,end=\"元\\n\")\n",
        "  elif(money>=600000 and money<1000000):\n",
        "    print(\"付稅金額:\",money*0.13,end=\"元\\n\")\n",
        "  elif(money>=1000000 and money<2000000):\n",
        "    print(\"付稅金額:\",money*0.21,end=\"元\\n\")\n",
        "  elif(money>=2000000):\n",
        "    print(\"付稅金額:\",money*0.3,end=\"元\\n\")\n",
        "else:\n",
        "  print(\"付稅金額:\",money*0,end=\"元\\n\")"
      ],
      "metadata": {
        "colab": {
          "base_uri": "https://localhost:8080/"
        },
        "id": "F-k70jitpptH",
        "outputId": "2b5a4862-114e-4442-8937-19277c3e5d2f"
      },
      "execution_count": 12,
      "outputs": [
        {
          "output_type": "stream",
          "name": "stdout",
          "text": [
            "請輸入今年收入淨額:2000000\n",
            "付稅金額: 600000.0元\n"
          ]
        }
      ]
    }
  ]
}