{
  "nbformat": 4,
  "nbformat_minor": 0,
  "metadata": {
    "colab": {
      "name": "0601.ipynb",
      "provenance": [],
      "authorship_tag": "ABX9TyNbpRY1j5JlFHYrOP3jXdiM",
      "include_colab_link": true
    },
    "kernelspec": {
      "name": "python3",
      "display_name": "Python 3"
    },
    "language_info": {
      "name": "python"
    }
  },
  "cells": [
    {
      "cell_type": "markdown",
      "metadata": {
        "id": "view-in-github",
        "colab_type": "text"
      },
      "source": [
        "<a href=\"https://colab.research.google.com/github/ian41501/Introduction-to-computers/blob/main/0601.ipynb\" target=\"_parent\"><img src=\"https://colab.research.google.com/assets/colab-badge.svg\" alt=\"Open In Colab\"/></a>"
      ]
    },
    {
      "cell_type": "code",
      "execution_count": null,
      "metadata": {
        "colab": {
          "base_uri": "https://localhost:8080/"
        },
        "id": "-ebaKCeHnyPQ",
        "outputId": "ebaa90e2-5c92-4f1e-ee22-b4751ee98b67"
      },
      "outputs": [
        {
          "output_type": "stream",
          "name": "stdout",
          "text": [
            "2*1= 2 2*2= 4 2*3= 6 2*4= 8 2*5=10 2*6=12 2*7=14 2*8=16 2*9=18 \n",
            "3*1= 3 3*2= 6 3*3= 9 3*4=12 3*5=15 3*6=18 3*7=21 3*8=24 3*9=27 \n",
            "4*1= 4 4*2= 8 4*3=12 4*4=16 4*5=20 4*6=24 4*7=28 4*8=32 4*9=36 \n",
            "5*1= 5 5*2=10 5*3=15 5*4=20 5*5=25 5*6=30 5*7=35 5*8=40 5*9=45 \n",
            "6*1= 6 6*2=12 6*3=18 6*4=24 6*5=30 6*6=36 6*7=42 6*8=48 6*9=54 \n",
            "7*1= 7 7*2=14 7*3=21 7*4=28 7*5=35 7*6=42 7*7=49 7*8=56 7*9=63 \n",
            "8*1= 8 8*2=16 8*3=24 8*4=32 8*5=40 8*6=48 8*7=56 8*8=64 8*9=72 \n",
            "9*1= 9 9*2=18 9*3=27 9*4=36 9*5=45 9*6=54 9*7=63 9*8=72 9*9=81 \n"
          ]
        }
      ],
      "source": [
        "for i in range(2,10):\n",
        "  for j in range(1,10):\n",
        "    product=i * j\n",
        "    print(\"%d*%d=%2d\" %(i,j,product),end=\" \")\n",
        "  print()"
      ]
    },
    {
      "cell_type": "code",
      "source": [
        "a=int(input(\"請輸入a的值\"))\n",
        "b=int(input(\"請輸入b的值\"))\n",
        "\n",
        "maxno=a*b\n",
        "for i in range(1,maxno+1):\n",
        "  if(i%a==0 and i%b==0):\n",
        "    break\n",
        "print(\"%d和%d的最小公倍數=%d\"%(a,b,i))"
      ],
      "metadata": {
        "colab": {
          "base_uri": "https://localhost:8080/"
        },
        "id": "eZ49sVbCpWDz",
        "outputId": "087c9215-a7b4-4abf-d826-30daca6439dd"
      },
      "execution_count": null,
      "outputs": [
        {
          "output_type": "stream",
          "name": "stdout",
          "text": [
            "請輸入a的值5\n",
            "請輸入b的值4\n",
            "5和4的最小公倍數=20\n"
          ]
        }
      ]
    },
    {
      "cell_type": "code",
      "source": [
        "n=int(input(\"請輸入一個正整數\"))\n",
        "for i in range(1,n+1):\n",
        "  if i % 5==0 :\n",
        "    continue\n",
        "  print(i,end=' ')"
      ],
      "metadata": {
        "colab": {
          "base_uri": "https://localhost:8080/"
        },
        "id": "JOqTW9hyrGTQ",
        "outputId": "a3a80433-3d59-4528-9839-24960867ea34"
      },
      "execution_count": null,
      "outputs": [
        {
          "output_type": "stream",
          "name": "stdout",
          "text": [
            "請輸入一個正整數20\n",
            "1 2 3 4 6 7 8 9 11 12 13 14 16 17 18 19 "
          ]
        }
      ]
    },
    {
      "cell_type": "code",
      "source": [
        "total=n=0\n",
        "while(n<10):\n",
        "  n+=1\n",
        "  total+=n\n",
        "print(total)"
      ],
      "metadata": {
        "colab": {
          "base_uri": "https://localhost:8080/"
        },
        "id": "CUX853OmtUnQ",
        "outputId": "306bcb64-e7c4-4f02-fb9f-cd58852cfe12"
      },
      "execution_count": null,
      "outputs": [
        {
          "output_type": "stream",
          "name": "stdout",
          "text": [
            "55\n"
          ]
        }
      ]
    },
    {
      "cell_type": "code",
      "source": [
        "total=n=0\n",
        "while(n<=10):\n",
        "  total+=n\n",
        "  n+=1\n",
        "print(total)"
      ],
      "metadata": {
        "colab": {
          "base_uri": "https://localhost:8080/"
        },
        "id": "HsG8eBDmuSst",
        "outputId": "e4ae3f83-5635-4b13-d915-f86b787b0a2e"
      },
      "execution_count": null,
      "outputs": [
        {
          "output_type": "stream",
          "name": "stdout",
          "text": [
            "55\n"
          ]
        }
      ]
    },
    {
      "cell_type": "code",
      "source": [
        "total=n=0\n",
        "while n<=10:\n",
        "  total+=n\n",
        "  n+=1\n",
        "print(total)"
      ],
      "metadata": {
        "colab": {
          "base_uri": "https://localhost:8080/"
        },
        "id": "VD2wk29guzNo",
        "outputId": "1aeb7ef6-2cc5-43a4-9d53-ddb33d5e49d7"
      },
      "execution_count": null,
      "outputs": [
        {
          "output_type": "stream",
          "name": "stdout",
          "text": [
            "55\n"
          ]
        }
      ]
    },
    {
      "cell_type": "code",
      "source": [
        "total=i=1\n",
        "n=int(input(\"請輸入正整數n的值:\"))\n",
        "while i<=n:\n",
        "  total*= i\n",
        "  i+=1\n",
        "print(\"%d!=%d\"%(n,total))"
      ],
      "metadata": {
        "colab": {
          "base_uri": "https://localhost:8080/"
        },
        "id": "RZYCVDSAvTh-",
        "outputId": "f2bfdd8c-b79a-42bd-c0db-1fc6858bf5be"
      },
      "execution_count": null,
      "outputs": [
        {
          "output_type": "stream",
          "name": "stdout",
          "text": [
            "請輸入正整數n的值:5\n",
            "5!=120\n"
          ]
        }
      ]
    },
    {
      "cell_type": "code",
      "source": [
        "total=n=0\n",
        "while n<=50:\n",
        "  total+=n\n",
        "  n+=2\n",
        "print(\"0～50的偶數和結果是\",total)\n"
      ],
      "metadata": {
        "colab": {
          "base_uri": "https://localhost:8080/"
        },
        "id": "pu3-qOvRwNyg",
        "outputId": "4371147d-5d41-48ec-b093-660f5b2006b6"
      },
      "execution_count": null,
      "outputs": [
        {
          "output_type": "stream",
          "name": "stdout",
          "text": [
            "0～50的偶數和結果是 650\n"
          ]
        }
      ]
    },
    {
      "cell_type": "code",
      "source": [
        "total=0\n",
        "n=1\n",
        "while n<=49:\n",
        "  total+=n\n",
        "  n+=2\n",
        "print(\"0～50的基數和結果是\",total)"
      ],
      "metadata": {
        "colab": {
          "base_uri": "https://localhost:8080/"
        },
        "id": "R3vgm5WI2Q9R",
        "outputId": "e9820a7b-a537-4dfa-9ecb-9d05bca33f67"
      },
      "execution_count": null,
      "outputs": [
        {
          "output_type": "stream",
          "name": "stdout",
          "text": [
            "0～50的基數和結果是 625\n"
          ]
        }
      ]
    },
    {
      "cell_type": "code",
      "source": [
        "a=1\n",
        "n=int(input(\"請輸入正整數\"))\n",
        "while a<=n:\n",
        "  print(\"*\"*(n-a+1))\n",
        "  a+=1"
      ],
      "metadata": {
        "id": "CUbVAuVF3mUu",
        "colab": {
          "base_uri": "https://localhost:8080/"
        },
        "outputId": "a231a5a9-9cd2-4df5-c88a-8556ffb6cc90"
      },
      "execution_count": null,
      "outputs": [
        {
          "output_type": "stream",
          "name": "stdout",
          "text": [
            "請輸入正整數7\n",
            "*******\n",
            "******\n",
            "*****\n",
            "****\n",
            "***\n",
            "**\n",
            "*\n"
          ]
        }
      ]
    },
    {
      "cell_type": "code",
      "source": [
        "a=1\n",
        "n=int(input(\"請輸入正整數\"))\n",
        "while a<=n:\n",
        "  print(\"*\"*(n-a+1))\n",
        "  a+=1"
      ],
      "metadata": {
        "id": "peC6ucQyVWm5",
        "outputId": "36d97f7a-7726-443e-b799-a3825616a4dc",
        "colab": {
          "base_uri": "https://localhost:8080/"
        }
      },
      "execution_count": null,
      "outputs": [
        {
          "output_type": "stream",
          "name": "stdout",
          "text": [
            "請輸入正整數5\n",
            "*****\n",
            "****\n",
            "***\n",
            "**\n",
            "*\n"
          ]
        }
      ]
    },
    {
      "cell_type": "code",
      "source": [
        "total=0\n",
        "n=m=k=0\n",
        "for i in range(0,101):\n",
        "  if i%7==0:\n",
        "    total+=n\n",
        "    n+=7\n",
        "  if i%3==0:\n",
        "    total+=m\n",
        "    m+=3\n",
        "  if(i%3==0 and i%7==0):\n",
        "    total+=k\n",
        "    k-=21\n",
        "print(\"數值0～100中,所有是3或7倍數的數之總和=\",total)"
      ],
      "metadata": {
        "colab": {
          "base_uri": "https://localhost:8080/"
        },
        "id": "63_UZ5Za6weW",
        "outputId": "16640aa8-b6d3-440b-8c24-92345c514c21"
      },
      "execution_count": null,
      "outputs": [
        {
          "output_type": "stream",
          "name": "stdout",
          "text": [
            "數值0～100中,所有是3或7倍數的數之總和= 2208\n"
          ]
        }
      ]
    },
    {
      "cell_type": "code",
      "source": [
        "n=int(input(\"請輸入正整數\"))\n",
        "m=1\n",
        "print(n,\"的因數有\",end=\" \")\n",
        "while m<=n:\n",
        "  if(n%m==0):\n",
        "    print(m,end=\" \")\n",
        "  m+=1\n",
        "m=2\n",
        "while m<n:\n",
        "  if(n%m==0):  \n",
        "    print(\"\")\n",
        "    print(n,\"不是質數\")\n",
        "    break\n",
        "  m+=1\n",
        "if(m==n):\n",
        "  print(\"\")\n",
        "  print(n,\"是質數\")"
      ],
      "metadata": {
        "id": "nFDjhtMB6w3p",
        "colab": {
          "base_uri": "https://localhost:8080/"
        },
        "outputId": "3f3b56b1-1bc7-443e-d1a7-64d465e20349"
      },
      "execution_count": 3,
      "outputs": [
        {
          "output_type": "stream",
          "name": "stdout",
          "text": [
            "請輸入正整數12\n",
            "12 的因數有 1 2 3 4 6 12 \n",
            "12 不是質數\n"
          ]
        }
      ]
    },
    {
      "cell_type": "code",
      "source": [
        "n=int(input(\"請輸入正整數\"))\n",
        "m=1\n",
        "print(n,\"的因數有\",end=\" \")\n",
        "while m<=n:\n",
        "  if(n%m==0):\n",
        "    print(m,end=\" \")\n",
        "  m+=1\n",
        "m=2\n",
        "while m<n:\n",
        "  if(n%m==0):  \n",
        "    print(\"\")\n",
        "    print(n,\"不是質數\")\n",
        "    break\n",
        "  m+=1\n",
        "if(m==n):\n",
        "  print(\"\")\n",
        "  print(n,\"是質數\")"
      ],
      "metadata": {
        "colab": {
          "base_uri": "https://localhost:8080/"
        },
        "id": "ff3vkvOdAwDj",
        "outputId": "e0499518-51bc-41c9-f3d5-7f764e654c6c"
      },
      "execution_count": 4,
      "outputs": [
        {
          "output_type": "stream",
          "name": "stdout",
          "text": [
            "請輸入正整數11\n",
            "11 的因數有 1 11 \n",
            "11 是質數\n"
          ]
        }
      ]
    }
  ]
}