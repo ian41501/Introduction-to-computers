{
  "nbformat": 4,
  "nbformat_minor": 0,
  "metadata": {
    "colab": {
      "name": "0608.ipynb",
      "provenance": [],
      "authorship_tag": "ABX9TyPzaHGvgALUcUwC1phqYdXj",
      "include_colab_link": true
    },
    "kernelspec": {
      "name": "python3",
      "display_name": "Python 3"
    },
    "language_info": {
      "name": "python"
    }
  },
  "cells": [
    {
      "cell_type": "markdown",
      "metadata": {
        "id": "view-in-github",
        "colab_type": "text"
      },
      "source": [
        "<a href=\"https://colab.research.google.com/github/ian41501/Introduction-to-computers/blob/main/0608.ipynb\" target=\"_parent\"><img src=\"https://colab.research.google.com/assets/colab-badge.svg\" alt=\"Open In Colab\"/></a>"
      ]
    },
    {
      "cell_type": "code",
      "execution_count": 4,
      "metadata": {
        "id": "wz8rPF9RpfRh"
      },
      "outputs": [],
      "source": [
        "list1=[1,2,3,4]"
      ]
    },
    {
      "cell_type": "code",
      "source": [
        "list1"
      ],
      "metadata": {
        "colab": {
          "base_uri": "https://localhost:8080/"
        },
        "id": "C0ansZ1osVRj",
        "outputId": "01254370-37bb-4660-c6f0-131086a9243f"
      },
      "execution_count": 5,
      "outputs": [
        {
          "output_type": "execute_result",
          "data": {
            "text/plain": [
              "[1, 2, 3, 4]"
            ]
          },
          "metadata": {},
          "execution_count": 5
        }
      ]
    },
    {
      "cell_type": "code",
      "source": [
        "list2=[\"香蕉\",\"蘋果\",\"橘子\"]"
      ],
      "metadata": {
        "id": "3TzP2E2ksbyd"
      },
      "execution_count": 6,
      "outputs": []
    },
    {
      "cell_type": "code",
      "source": [
        "list2"
      ],
      "metadata": {
        "colab": {
          "base_uri": "https://localhost:8080/"
        },
        "id": "UJzq3iB8spi6",
        "outputId": "11c7c56a-c2a7-4e16-e259-047714474d1d"
      },
      "execution_count": 7,
      "outputs": [
        {
          "output_type": "execute_result",
          "data": {
            "text/plain": [
              "['香蕉', '蘋果', '橘子']"
            ]
          },
          "metadata": {},
          "execution_count": 7
        }
      ]
    },
    {
      "cell_type": "code",
      "source": [
        "list3=[1,'香蕉',True]"
      ],
      "metadata": {
        "id": "IMhsAXMGsqz3"
      },
      "execution_count": 8,
      "outputs": []
    },
    {
      "cell_type": "code",
      "source": [
        "list3"
      ],
      "metadata": {
        "colab": {
          "base_uri": "https://localhost:8080/"
        },
        "id": "_ad5YYJUs5NK",
        "outputId": "85d00c85-ebe3-4590-8cc5-634037fb133d"
      },
      "execution_count": 9,
      "outputs": [
        {
          "output_type": "execute_result",
          "data": {
            "text/plain": [
              "[1, '香蕉', True]"
            ]
          },
          "metadata": {},
          "execution_count": 9
        }
      ]
    },
    {
      "cell_type": "code",
      "source": [
        "list4=[]"
      ],
      "metadata": {
        "id": "KAnyElH3s636"
      },
      "execution_count": 11,
      "outputs": []
    },
    {
      "cell_type": "code",
      "source": [
        "list4"
      ],
      "metadata": {
        "colab": {
          "base_uri": "https://localhost:8080/"
        },
        "id": "G-bK38zts_px",
        "outputId": "ebf5b93f-f008-4abc-cf2e-4d9159640087"
      },
      "execution_count": 12,
      "outputs": [
        {
          "output_type": "execute_result",
          "data": {
            "text/plain": [
              "[]"
            ]
          },
          "metadata": {},
          "execution_count": 12
        }
      ]
    },
    {
      "cell_type": "code",
      "source": [
        "list1=[1,2,3,4]\n",
        "print(list1)"
      ],
      "metadata": {
        "colab": {
          "base_uri": "https://localhost:8080/"
        },
        "id": "iy-swwHktppZ",
        "outputId": "f515e5ae-68ff-4e0c-a823-e827d8ba7c12"
      },
      "execution_count": 15,
      "outputs": [
        {
          "output_type": "stream",
          "name": "stdout",
          "text": [
            "[1, 2, 3, 4]\n"
          ]
        }
      ]
    },
    {
      "cell_type": "code",
      "source": [
        "print(list1[0])\n",
        "print(list1[1])\n",
        "print(list1[2])\n",
        "print(list1[3])"
      ],
      "metadata": {
        "colab": {
          "base_uri": "https://localhost:8080/"
        },
        "id": "bV78aDazuKXn",
        "outputId": "ded8c36d-3bce-49e1-cc99-232ee94a9c0e"
      },
      "execution_count": 16,
      "outputs": [
        {
          "output_type": "stream",
          "name": "stdout",
          "text": [
            "1\n",
            "2\n",
            "3\n",
            "4\n"
          ]
        }
      ]
    },
    {
      "cell_type": "code",
      "source": [
        "list4=[\"香蕉\",\"蘋果\",\"橘子\"]\n",
        "print(list4[0])\n",
        "print(list4[1])\n",
        "print(list4[2])"
      ],
      "metadata": {
        "colab": {
          "base_uri": "https://localhost:8080/"
        },
        "id": "l-IBP4DLu4W7",
        "outputId": "e4f9e091-2d20-4c5c-be23-30dd2a824f48"
      },
      "execution_count": 17,
      "outputs": [
        {
          "output_type": "stream",
          "name": "stdout",
          "text": [
            "香蕉\n",
            "蘋果\n",
            "橘子\n"
          ]
        }
      ]
    },
    {
      "cell_type": "code",
      "source": [
        "list4=[\"香蕉\",\"蘋果\",\"橘子\"]\n",
        "print(list4[-1])\n",
        "print(list4[-2])\n",
        "print(list4[-3])"
      ],
      "metadata": {
        "colab": {
          "base_uri": "https://localhost:8080/"
        },
        "id": "vmwhu4favOZP",
        "outputId": "88a5416d-bd5a-48a3-cb3a-23a5fd60f219"
      },
      "execution_count": 21,
      "outputs": [
        {
          "output_type": "stream",
          "name": "stdout",
          "text": [
            "橘子\n",
            "蘋果\n",
            "香蕉\n"
          ]
        }
      ]
    },
    {
      "cell_type": "code",
      "source": [
        "list5=[[\"tom\",'1234']],['mary','abcd'],['david','5678']"
      ],
      "metadata": {
        "id": "lSFTpeRLwcxj"
      },
      "execution_count": 22,
      "outputs": []
    },
    {
      "cell_type": "code",
      "source": [
        "print(list5[1])"
      ],
      "metadata": {
        "colab": {
          "base_uri": "https://localhost:8080/"
        },
        "id": "gqJwKCTXw26T",
        "outputId": "417fa2f2-d979-4b9c-c7d6-a22d5fdeecca"
      },
      "execution_count": 23,
      "outputs": [
        {
          "output_type": "stream",
          "name": "stdout",
          "text": [
            "['mary', 'abcd']\n"
          ]
        }
      ]
    },
    {
      "cell_type": "code",
      "source": [
        "print(list5[0])"
      ],
      "metadata": {
        "colab": {
          "base_uri": "https://localhost:8080/"
        },
        "id": "9BSSH7OXw7bG",
        "outputId": "e70c8f27-e412-4578-f10d-d62d4f12d69f"
      },
      "execution_count": 24,
      "outputs": [
        {
          "output_type": "stream",
          "name": "stdout",
          "text": [
            "[['tom', '1234']]\n"
          ]
        }
      ]
    },
    {
      "cell_type": "code",
      "source": [
        "print(list5[1][1])"
      ],
      "metadata": {
        "colab": {
          "base_uri": "https://localhost:8080/"
        },
        "id": "INwq4cenw8ZG",
        "outputId": "2df27ed8-0f6a-46a8-afbf-fa6daa1ae0ee"
      },
      "execution_count": 26,
      "outputs": [
        {
          "output_type": "stream",
          "name": "stdout",
          "text": [
            "abcd\n"
          ]
        }
      ]
    },
    {
      "cell_type": "code",
      "source": [
        "print(list5[0])"
      ],
      "metadata": {
        "colab": {
          "base_uri": "https://localhost:8080/"
        },
        "id": "rYtc2ZrmxEnG",
        "outputId": "fbd71a57-be11-4ed0-9291-20f4ec35ebb5"
      },
      "execution_count": 27,
      "outputs": [
        {
          "output_type": "stream",
          "name": "stdout",
          "text": [
            "[['tom', '1234']]\n"
          ]
        }
      ]
    },
    {
      "cell_type": "code",
      "source": [
        "print(list5[1][0])"
      ],
      "metadata": {
        "colab": {
          "base_uri": "https://localhost:8080/"
        },
        "id": "HptRohhGxHtH",
        "outputId": "3d72c463-8477-49cc-d72d-cea43cb916c7"
      },
      "execution_count": 32,
      "outputs": [
        {
          "output_type": "stream",
          "name": "stdout",
          "text": [
            "mary\n"
          ]
        }
      ]
    },
    {
      "cell_type": "code",
      "source": [
        "print(list5[0][0])"
      ],
      "metadata": {
        "colab": {
          "base_uri": "https://localhost:8080/"
        },
        "id": "AXMvnbbbxNUC",
        "outputId": "919b0771-4f22-4c94-b086-1e00cb5a7d0e"
      },
      "execution_count": 31,
      "outputs": [
        {
          "output_type": "stream",
          "name": "stdout",
          "text": [
            "['tom', '1234']\n"
          ]
        }
      ]
    },
    {
      "cell_type": "code",
      "source": [
        "print(list5[1][0])"
      ],
      "metadata": {
        "colab": {
          "base_uri": "https://localhost:8080/"
        },
        "id": "6S_Ch6ltxN1X",
        "outputId": "fa93f878-90b1-426f-9b68-84815ed84693"
      },
      "execution_count": 29,
      "outputs": [
        {
          "output_type": "stream",
          "name": "stdout",
          "text": [
            "mary\n"
          ]
        }
      ]
    },
    {
      "cell_type": "code",
      "source": [
        "list=[85,79,93]\n",
        "print(\"國文成績:%d分\"%list[0])\n",
        "print(\"數學成績:%d分\"%list[1])\n",
        "print(\"英文成績:%d分\"%list[2])"
      ],
      "metadata": {
        "colab": {
          "base_uri": "https://localhost:8080/"
        },
        "id": "WyX_pag6yIGx",
        "outputId": "b5865f25-4ce0-4f47-edf0-e6659c43c4f4"
      },
      "execution_count": 38,
      "outputs": [
        {
          "output_type": "stream",
          "name": "stdout",
          "text": [
            "國文成績:85分\n",
            "數學成績:79分\n",
            "英文成績:93分\n"
          ]
        }
      ]
    },
    {
      "cell_type": "code",
      "source": [
        "list6=[1,2,3,4,5]\n",
        "print(list6[0])\n",
        "print(list6)\n"
      ],
      "metadata": {
        "colab": {
          "base_uri": "https://localhost:8080/"
        },
        "id": "vowdpR3o0U1h",
        "outputId": "de85a0a8-a3f1-403e-b66d-59ac777f9c86"
      },
      "execution_count": 40,
      "outputs": [
        {
          "output_type": "stream",
          "name": "stdout",
          "text": [
            "1\n",
            "[1, 2, 3, 4, 5]\n"
          ]
        }
      ]
    },
    {
      "cell_type": "code",
      "source": [
        "list6[0]=9"
      ],
      "metadata": {
        "id": "RzdwFTSg0vAt"
      },
      "execution_count": 41,
      "outputs": []
    },
    {
      "cell_type": "code",
      "source": [
        "print(list6[0])"
      ],
      "metadata": {
        "colab": {
          "base_uri": "https://localhost:8080/"
        },
        "id": "n0VyPmbS01tb",
        "outputId": "2971d06f-974d-4709-8edc-d05bf809dd65"
      },
      "execution_count": 42,
      "outputs": [
        {
          "output_type": "stream",
          "name": "stdout",
          "text": [
            "9\n"
          ]
        }
      ]
    },
    {
      "cell_type": "code",
      "source": [
        "print(list6)"
      ],
      "metadata": {
        "colab": {
          "base_uri": "https://localhost:8080/"
        },
        "id": "p3be5k0W07ET",
        "outputId": "afbab704-928c-4a0e-9c58-bf133c453315"
      },
      "execution_count": 43,
      "outputs": [
        {
          "output_type": "stream",
          "name": "stdout",
          "text": [
            "[9, 2, 3, 4, 5]\n"
          ]
        }
      ]
    },
    {
      "cell_type": "code",
      "source": [
        "list7=[\"香蕉\",\"蘋果\",\"橘子\"]\n",
        "print(list7)\n",
        "for s in list7:\n",
        "  print(s,end=\",\")"
      ],
      "metadata": {
        "colab": {
          "base_uri": "https://localhost:8080/"
        },
        "id": "hQukaxNd1kLT",
        "outputId": "90a81a8b-2d51-4340-82de-c94bd4914b01"
      },
      "execution_count": 44,
      "outputs": [
        {
          "output_type": "stream",
          "name": "stdout",
          "text": [
            "['香蕉', '蘋果', '橘子']\n",
            "香蕉,蘋果,橘子,"
          ]
        }
      ]
    },
    {
      "cell_type": "code",
      "source": [
        "list8=[123,\"apple\",True]\n",
        "for i in list8:\n",
        "  print(i)"
      ],
      "metadata": {
        "colab": {
          "base_uri": "https://localhost:8080/"
        },
        "id": "OoBjcb_p1915",
        "outputId": "26052ec6-b329-44f4-8343-c15f054d0463"
      },
      "execution_count": 45,
      "outputs": [
        {
          "output_type": "stream",
          "name": "stdout",
          "text": [
            "123\n",
            "apple\n",
            "True\n"
          ]
        }
      ]
    },
    {
      "cell_type": "code",
      "source": [
        "scores=[85,79,93]\n",
        "print(len(scores))"
      ],
      "metadata": {
        "colab": {
          "base_uri": "https://localhost:8080/"
        },
        "id": "jTt37ayL21Ku",
        "outputId": "22bb38bd-e794-484d-bb14-de0d82d3808d"
      },
      "execution_count": 46,
      "outputs": [
        {
          "output_type": "stream",
          "name": "stdout",
          "text": [
            "3\n"
          ]
        }
      ]
    },
    {
      "cell_type": "code",
      "source": [
        "scores=[85,79,93,50]\n",
        "print(len(scores))"
      ],
      "metadata": {
        "colab": {
          "base_uri": "https://localhost:8080/"
        },
        "id": "9XTV4k423B0k",
        "outputId": "4e558adb-87d5-4376-9ed4-b03a4e49739c"
      },
      "execution_count": 47,
      "outputs": [
        {
          "output_type": "stream",
          "name": "stdout",
          "text": [
            "4\n"
          ]
        }
      ]
    },
    {
      "cell_type": "code",
      "source": [
        "scores=[85,79,93]\n",
        "for i in range(len(scores)):\n",
        "  print(scores[i])"
      ],
      "metadata": {
        "colab": {
          "base_uri": "https://localhost:8080/"
        },
        "id": "rp7FsL3E3K91",
        "outputId": "9c5ab36b-046d-4005-f522-bd064ba732f1"
      },
      "execution_count": 49,
      "outputs": [
        {
          "output_type": "stream",
          "name": "stdout",
          "text": [
            "85\n",
            "79\n",
            "93\n"
          ]
        }
      ]
    },
    {
      "cell_type": "code",
      "source": [
        "scores=[85,79,93]\n",
        "acct=[\"國文\",\"數學\",\"英文\"]\n",
        "for i in range(len(scores)):\n",
        "  print(\"%s成績:%d分\"%(acct[i],scores[i]))"
      ],
      "metadata": {
        "colab": {
          "base_uri": "https://localhost:8080/"
        },
        "id": "-yCqmy0G4GTb",
        "outputId": "ecbdab13-6f1b-4b87-eab2-fe4e61a9cc61"
      },
      "execution_count": 83,
      "outputs": [
        {
          "output_type": "stream",
          "name": "stdout",
          "text": [
            "國文成績:85分\n",
            "數學成績:79分\n",
            "英文成績:93分\n"
          ]
        }
      ]
    },
    {
      "cell_type": "code",
      "source": [
        "num=[1,2,3]\n",
        "name=[\"Tom\",\"Mary\",\"Tony\"]\n",
        "for i in range(len(name)):\n",
        "  print(\"編號:\",num[i],\"姓名:\",name[i],sep=\"\")"
      ],
      "metadata": {
        "colab": {
          "base_uri": "https://localhost:8080/"
        },
        "id": "LgwEZbTE8_Kc",
        "outputId": "ec75f658-7c40-48c1-fff3-e5d01d6fb7e8"
      },
      "execution_count": 80,
      "outputs": [
        {
          "output_type": "stream",
          "name": "stdout",
          "text": [
            "編號:1姓名:Tom\n",
            "編號:2姓名:Mary\n",
            "編號:3姓名:Tony\n"
          ]
        }
      ]
    }
  ]
}